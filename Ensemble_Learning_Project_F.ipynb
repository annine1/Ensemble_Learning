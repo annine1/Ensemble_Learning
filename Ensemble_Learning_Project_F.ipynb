{
  "nbformat": 4,
  "nbformat_minor": 0,
  "metadata": {
    "colab": {
      "name": "Ensemble_Learning_Project_F.ipynb",
      "provenance": [],
      "collapsed_sections": [],
      "include_colab_link": true
    },
    "kernelspec": {
      "name": "python3",
      "display_name": "Python 3"
    },
    "language_info": {
      "name": "python"
    }
  },
  "cells": [
    {
      "cell_type": "markdown",
      "metadata": {
        "id": "view-in-github",
        "colab_type": "text"
      },
      "source": [
        "<a href=\"https://colab.research.google.com/github/annine1/Ensemble_Learning/blob/main/Ensemble_Learning_Project_F.ipynb\" target=\"_parent\"><img src=\"https://colab.research.google.com/assets/colab-badge.svg\" alt=\"Open In Colab\"/></a>"
      ]
    },
    {
      "cell_type": "markdown",
      "source": [
        "## Importation of Libraries"
      ],
      "metadata": {
        "id": "GAVuT-IDIyo_"
      }
    },
    {
      "cell_type": "code",
      "execution_count": 34,
      "metadata": {
        "id": "npnz63Q9IseX"
      },
      "outputs": [],
      "source": [
        "import pandas as pd\n",
        "from random import randrange\n",
        "from sklearn.preprocessing import LabelEncoder\n",
        "import seaborn as sns\n",
        "from imblearn.over_sampling import RandomOverSampler\n",
        "from imblearn.under_sampling import RandomUnderSampler\n",
        "import collections\n",
        "from collections import Counter\n",
        "from sklearn.model_selection import cross_val_score\n",
        "import numpy as np\n",
        "import matplotlib.pyplot as plt\n",
        "from sklearn.tree import DecisionTreeClassifier\n",
        "from sklearn.ensemble import BaggingClassifier\n",
        "from sklearn.svm import SVC\n",
        "from sklearn.linear_model import LogisticRegression\n",
        "from sklearn.decomposition import PCA\n",
        "from sklearn.pipeline import Pipeline\n",
        "from sklearn.preprocessing import StandardScaler\n",
        "from sklearn.metrics import f1_score, accuracy_score\n",
        "\n",
        "from sklearn.base import clone\n",
        "from sklearn.pipeline import _name_estimators\n",
        "import operator\n",
        "from imblearn import over_sampling\n",
        "from sklearn.neural_network import MLPClassifier\n",
        "from sklearn.metrics import accuracy_score, confusion_matrix, classification_report\n",
        "\n",
        "import warnings\n",
        "warnings.filterwarnings('ignore')\n",
        "np.random.seed(0)\n"
      ]
    },
    {
      "cell_type": "markdown",
      "source": [
        "#Preprocessing of data"
      ],
      "metadata": {
        "id": "Eu4zSYajKV3O"
      }
    },
    {
      "cell_type": "code",
      "source": [
        "header_list = [\"id_no\", \"C_Thickness\", \"Cell_Size\",\"Cell_Shape\",\"M_Adhesion\",\"SEC_Size\",\"B_Nuclei\",\"B_Chromatin\",\"N_Nucleoli\",\"Mitoses\",\"class\"]"
      ],
      "metadata": {
        "id": "YIAfMkkPKaPs"
      },
      "execution_count": 35,
      "outputs": []
    },
    {
      "cell_type": "code",
      "source": [
        "data = pd.read_csv('/content/drive/MyDrive/Bootcamp3/data/breast-cancer-wisconsin.csv',names=header_list)\n",
        "data.head()"
      ],
      "metadata": {
        "colab": {
          "base_uri": "https://localhost:8080/",
          "height": 206
        },
        "id": "fuNHNdmZMrHd",
        "outputId": "43ae9c7c-601a-40e5-e7b0-075a2ba54fa4"
      },
      "execution_count": 36,
      "outputs": [
        {
          "output_type": "execute_result",
          "data": {
            "text/plain": [
              "     id_no  C_Thickness  Cell_Size  Cell_Shape  M_Adhesion  SEC_Size B_Nuclei  \\\n",
              "0  1000025            5          1           1           1         2        1   \n",
              "1  1002945            5          4           4           5         7       10   \n",
              "2  1015425            3          1           1           1         2        2   \n",
              "3  1016277            6          8           8           1         3        4   \n",
              "4  1017023            4          1           1           3         2        1   \n",
              "\n",
              "   B_Chromatin  N_Nucleoli  Mitoses  class  \n",
              "0            3           1        1      2  \n",
              "1            3           2        1      2  \n",
              "2            3           1        1      2  \n",
              "3            3           7        1      2  \n",
              "4            3           1        1      2  "
            ],
            "text/html": [
              "\n",
              "  <div id=\"df-a9a7da87-4995-4a9d-a363-d38697b69426\">\n",
              "    <div class=\"colab-df-container\">\n",
              "      <div>\n",
              "<style scoped>\n",
              "    .dataframe tbody tr th:only-of-type {\n",
              "        vertical-align: middle;\n",
              "    }\n",
              "\n",
              "    .dataframe tbody tr th {\n",
              "        vertical-align: top;\n",
              "    }\n",
              "\n",
              "    .dataframe thead th {\n",
              "        text-align: right;\n",
              "    }\n",
              "</style>\n",
              "<table border=\"1\" class=\"dataframe\">\n",
              "  <thead>\n",
              "    <tr style=\"text-align: right;\">\n",
              "      <th></th>\n",
              "      <th>id_no</th>\n",
              "      <th>C_Thickness</th>\n",
              "      <th>Cell_Size</th>\n",
              "      <th>Cell_Shape</th>\n",
              "      <th>M_Adhesion</th>\n",
              "      <th>SEC_Size</th>\n",
              "      <th>B_Nuclei</th>\n",
              "      <th>B_Chromatin</th>\n",
              "      <th>N_Nucleoli</th>\n",
              "      <th>Mitoses</th>\n",
              "      <th>class</th>\n",
              "    </tr>\n",
              "  </thead>\n",
              "  <tbody>\n",
              "    <tr>\n",
              "      <th>0</th>\n",
              "      <td>1000025</td>\n",
              "      <td>5</td>\n",
              "      <td>1</td>\n",
              "      <td>1</td>\n",
              "      <td>1</td>\n",
              "      <td>2</td>\n",
              "      <td>1</td>\n",
              "      <td>3</td>\n",
              "      <td>1</td>\n",
              "      <td>1</td>\n",
              "      <td>2</td>\n",
              "    </tr>\n",
              "    <tr>\n",
              "      <th>1</th>\n",
              "      <td>1002945</td>\n",
              "      <td>5</td>\n",
              "      <td>4</td>\n",
              "      <td>4</td>\n",
              "      <td>5</td>\n",
              "      <td>7</td>\n",
              "      <td>10</td>\n",
              "      <td>3</td>\n",
              "      <td>2</td>\n",
              "      <td>1</td>\n",
              "      <td>2</td>\n",
              "    </tr>\n",
              "    <tr>\n",
              "      <th>2</th>\n",
              "      <td>1015425</td>\n",
              "      <td>3</td>\n",
              "      <td>1</td>\n",
              "      <td>1</td>\n",
              "      <td>1</td>\n",
              "      <td>2</td>\n",
              "      <td>2</td>\n",
              "      <td>3</td>\n",
              "      <td>1</td>\n",
              "      <td>1</td>\n",
              "      <td>2</td>\n",
              "    </tr>\n",
              "    <tr>\n",
              "      <th>3</th>\n",
              "      <td>1016277</td>\n",
              "      <td>6</td>\n",
              "      <td>8</td>\n",
              "      <td>8</td>\n",
              "      <td>1</td>\n",
              "      <td>3</td>\n",
              "      <td>4</td>\n",
              "      <td>3</td>\n",
              "      <td>7</td>\n",
              "      <td>1</td>\n",
              "      <td>2</td>\n",
              "    </tr>\n",
              "    <tr>\n",
              "      <th>4</th>\n",
              "      <td>1017023</td>\n",
              "      <td>4</td>\n",
              "      <td>1</td>\n",
              "      <td>1</td>\n",
              "      <td>3</td>\n",
              "      <td>2</td>\n",
              "      <td>1</td>\n",
              "      <td>3</td>\n",
              "      <td>1</td>\n",
              "      <td>1</td>\n",
              "      <td>2</td>\n",
              "    </tr>\n",
              "  </tbody>\n",
              "</table>\n",
              "</div>\n",
              "      <button class=\"colab-df-convert\" onclick=\"convertToInteractive('df-a9a7da87-4995-4a9d-a363-d38697b69426')\"\n",
              "              title=\"Convert this dataframe to an interactive table.\"\n",
              "              style=\"display:none;\">\n",
              "        \n",
              "  <svg xmlns=\"http://www.w3.org/2000/svg\" height=\"24px\"viewBox=\"0 0 24 24\"\n",
              "       width=\"24px\">\n",
              "    <path d=\"M0 0h24v24H0V0z\" fill=\"none\"/>\n",
              "    <path d=\"M18.56 5.44l.94 2.06.94-2.06 2.06-.94-2.06-.94-.94-2.06-.94 2.06-2.06.94zm-11 1L8.5 8.5l.94-2.06 2.06-.94-2.06-.94L8.5 2.5l-.94 2.06-2.06.94zm10 10l.94 2.06.94-2.06 2.06-.94-2.06-.94-.94-2.06-.94 2.06-2.06.94z\"/><path d=\"M17.41 7.96l-1.37-1.37c-.4-.4-.92-.59-1.43-.59-.52 0-1.04.2-1.43.59L10.3 9.45l-7.72 7.72c-.78.78-.78 2.05 0 2.83L4 21.41c.39.39.9.59 1.41.59.51 0 1.02-.2 1.41-.59l7.78-7.78 2.81-2.81c.8-.78.8-2.07 0-2.86zM5.41 20L4 18.59l7.72-7.72 1.47 1.35L5.41 20z\"/>\n",
              "  </svg>\n",
              "      </button>\n",
              "      \n",
              "  <style>\n",
              "    .colab-df-container {\n",
              "      display:flex;\n",
              "      flex-wrap:wrap;\n",
              "      gap: 12px;\n",
              "    }\n",
              "\n",
              "    .colab-df-convert {\n",
              "      background-color: #E8F0FE;\n",
              "      border: none;\n",
              "      border-radius: 50%;\n",
              "      cursor: pointer;\n",
              "      display: none;\n",
              "      fill: #1967D2;\n",
              "      height: 32px;\n",
              "      padding: 0 0 0 0;\n",
              "      width: 32px;\n",
              "    }\n",
              "\n",
              "    .colab-df-convert:hover {\n",
              "      background-color: #E2EBFA;\n",
              "      box-shadow: 0px 1px 2px rgba(60, 64, 67, 0.3), 0px 1px 3px 1px rgba(60, 64, 67, 0.15);\n",
              "      fill: #174EA6;\n",
              "    }\n",
              "\n",
              "    [theme=dark] .colab-df-convert {\n",
              "      background-color: #3B4455;\n",
              "      fill: #D2E3FC;\n",
              "    }\n",
              "\n",
              "    [theme=dark] .colab-df-convert:hover {\n",
              "      background-color: #434B5C;\n",
              "      box-shadow: 0px 1px 3px 1px rgba(0, 0, 0, 0.15);\n",
              "      filter: drop-shadow(0px 1px 2px rgba(0, 0, 0, 0.3));\n",
              "      fill: #FFFFFF;\n",
              "    }\n",
              "  </style>\n",
              "\n",
              "      <script>\n",
              "        const buttonEl =\n",
              "          document.querySelector('#df-a9a7da87-4995-4a9d-a363-d38697b69426 button.colab-df-convert');\n",
              "        buttonEl.style.display =\n",
              "          google.colab.kernel.accessAllowed ? 'block' : 'none';\n",
              "\n",
              "        async function convertToInteractive(key) {\n",
              "          const element = document.querySelector('#df-a9a7da87-4995-4a9d-a363-d38697b69426');\n",
              "          const dataTable =\n",
              "            await google.colab.kernel.invokeFunction('convertToInteractive',\n",
              "                                                     [key], {});\n",
              "          if (!dataTable) return;\n",
              "\n",
              "          const docLinkHtml = 'Like what you see? Visit the ' +\n",
              "            '<a target=\"_blank\" href=https://colab.research.google.com/notebooks/data_table.ipynb>data table notebook</a>'\n",
              "            + ' to learn more about interactive tables.';\n",
              "          element.innerHTML = '';\n",
              "          dataTable['output_type'] = 'display_data';\n",
              "          await google.colab.output.renderOutput(dataTable, element);\n",
              "          const docLink = document.createElement('div');\n",
              "          docLink.innerHTML = docLinkHtml;\n",
              "          element.appendChild(docLink);\n",
              "        }\n",
              "      </script>\n",
              "    </div>\n",
              "  </div>\n",
              "  "
            ]
          },
          "metadata": {},
          "execution_count": 36
        }
      ]
    },
    {
      "cell_type": "code",
      "source": [
        "from google.colab import drive\n",
        "drive.mount('/content/drive')"
      ],
      "metadata": {
        "id": "H2BOgMq3V6wt",
        "colab": {
          "base_uri": "https://localhost:8080/"
        },
        "outputId": "304de714-99a5-4082-81b5-0f9d477aadef"
      },
      "execution_count": 37,
      "outputs": [
        {
          "output_type": "stream",
          "name": "stdout",
          "text": [
            "Drive already mounted at /content/drive; to attempt to forcibly remount, call drive.mount(\"/content/drive\", force_remount=True).\n"
          ]
        }
      ]
    },
    {
      "cell_type": "code",
      "source": [
        "data.info()"
      ],
      "metadata": {
        "colab": {
          "base_uri": "https://localhost:8080/"
        },
        "id": "8yMKYoUDNAt3",
        "outputId": "8ef91e34-dce0-44e0-a0af-5b8d95ed1a5a"
      },
      "execution_count": 38,
      "outputs": [
        {
          "output_type": "stream",
          "name": "stdout",
          "text": [
            "<class 'pandas.core.frame.DataFrame'>\n",
            "RangeIndex: 699 entries, 0 to 698\n",
            "Data columns (total 11 columns):\n",
            " #   Column       Non-Null Count  Dtype \n",
            "---  ------       --------------  ----- \n",
            " 0   id_no        699 non-null    int64 \n",
            " 1   C_Thickness  699 non-null    int64 \n",
            " 2   Cell_Size    699 non-null    int64 \n",
            " 3   Cell_Shape   699 non-null    int64 \n",
            " 4   M_Adhesion   699 non-null    int64 \n",
            " 5   SEC_Size     699 non-null    int64 \n",
            " 6   B_Nuclei     699 non-null    object\n",
            " 7   B_Chromatin  699 non-null    int64 \n",
            " 8   N_Nucleoli   699 non-null    int64 \n",
            " 9   Mitoses      699 non-null    int64 \n",
            " 10  class        699 non-null    int64 \n",
            "dtypes: int64(10), object(1)\n",
            "memory usage: 60.2+ KB\n"
          ]
        }
      ]
    },
    {
      "cell_type": "markdown",
      "source": [
        "#### B_Nuclei is an object so we perform label enconding on B_Nuclei to transform it to category"
      ],
      "metadata": {
        "id": "59gl4LPsNG5B"
      }
    },
    {
      "cell_type": "code",
      "source": [
        "#encoding B_Nuclei  to catergorical\n",
        "label = LabelEncoder()\n",
        "data['B_Nuclei'] = label.fit_transform(data['B_Nuclei'])\n",
        "data.head()\n"
      ],
      "metadata": {
        "colab": {
          "base_uri": "https://localhost:8080/",
          "height": 206
        },
        "id": "zPe02v-dNdU_",
        "outputId": "5a2ab79e-e84d-4a7c-c854-940b717e4d41"
      },
      "execution_count": 39,
      "outputs": [
        {
          "output_type": "execute_result",
          "data": {
            "text/plain": [
              "     id_no  C_Thickness  Cell_Size  Cell_Shape  M_Adhesion  SEC_Size  \\\n",
              "0  1000025            5          1           1           1         2   \n",
              "1  1002945            5          4           4           5         7   \n",
              "2  1015425            3          1           1           1         2   \n",
              "3  1016277            6          8           8           1         3   \n",
              "4  1017023            4          1           1           3         2   \n",
              "\n",
              "   B_Nuclei  B_Chromatin  N_Nucleoli  Mitoses  class  \n",
              "0         0            3           1        1      2  \n",
              "1         1            3           2        1      2  \n",
              "2         2            3           1        1      2  \n",
              "3         4            3           7        1      2  \n",
              "4         0            3           1        1      2  "
            ],
            "text/html": [
              "\n",
              "  <div id=\"df-f6b57201-4378-4d55-a855-1e0e083df56d\">\n",
              "    <div class=\"colab-df-container\">\n",
              "      <div>\n",
              "<style scoped>\n",
              "    .dataframe tbody tr th:only-of-type {\n",
              "        vertical-align: middle;\n",
              "    }\n",
              "\n",
              "    .dataframe tbody tr th {\n",
              "        vertical-align: top;\n",
              "    }\n",
              "\n",
              "    .dataframe thead th {\n",
              "        text-align: right;\n",
              "    }\n",
              "</style>\n",
              "<table border=\"1\" class=\"dataframe\">\n",
              "  <thead>\n",
              "    <tr style=\"text-align: right;\">\n",
              "      <th></th>\n",
              "      <th>id_no</th>\n",
              "      <th>C_Thickness</th>\n",
              "      <th>Cell_Size</th>\n",
              "      <th>Cell_Shape</th>\n",
              "      <th>M_Adhesion</th>\n",
              "      <th>SEC_Size</th>\n",
              "      <th>B_Nuclei</th>\n",
              "      <th>B_Chromatin</th>\n",
              "      <th>N_Nucleoli</th>\n",
              "      <th>Mitoses</th>\n",
              "      <th>class</th>\n",
              "    </tr>\n",
              "  </thead>\n",
              "  <tbody>\n",
              "    <tr>\n",
              "      <th>0</th>\n",
              "      <td>1000025</td>\n",
              "      <td>5</td>\n",
              "      <td>1</td>\n",
              "      <td>1</td>\n",
              "      <td>1</td>\n",
              "      <td>2</td>\n",
              "      <td>0</td>\n",
              "      <td>3</td>\n",
              "      <td>1</td>\n",
              "      <td>1</td>\n",
              "      <td>2</td>\n",
              "    </tr>\n",
              "    <tr>\n",
              "      <th>1</th>\n",
              "      <td>1002945</td>\n",
              "      <td>5</td>\n",
              "      <td>4</td>\n",
              "      <td>4</td>\n",
              "      <td>5</td>\n",
              "      <td>7</td>\n",
              "      <td>1</td>\n",
              "      <td>3</td>\n",
              "      <td>2</td>\n",
              "      <td>1</td>\n",
              "      <td>2</td>\n",
              "    </tr>\n",
              "    <tr>\n",
              "      <th>2</th>\n",
              "      <td>1015425</td>\n",
              "      <td>3</td>\n",
              "      <td>1</td>\n",
              "      <td>1</td>\n",
              "      <td>1</td>\n",
              "      <td>2</td>\n",
              "      <td>2</td>\n",
              "      <td>3</td>\n",
              "      <td>1</td>\n",
              "      <td>1</td>\n",
              "      <td>2</td>\n",
              "    </tr>\n",
              "    <tr>\n",
              "      <th>3</th>\n",
              "      <td>1016277</td>\n",
              "      <td>6</td>\n",
              "      <td>8</td>\n",
              "      <td>8</td>\n",
              "      <td>1</td>\n",
              "      <td>3</td>\n",
              "      <td>4</td>\n",
              "      <td>3</td>\n",
              "      <td>7</td>\n",
              "      <td>1</td>\n",
              "      <td>2</td>\n",
              "    </tr>\n",
              "    <tr>\n",
              "      <th>4</th>\n",
              "      <td>1017023</td>\n",
              "      <td>4</td>\n",
              "      <td>1</td>\n",
              "      <td>1</td>\n",
              "      <td>3</td>\n",
              "      <td>2</td>\n",
              "      <td>0</td>\n",
              "      <td>3</td>\n",
              "      <td>1</td>\n",
              "      <td>1</td>\n",
              "      <td>2</td>\n",
              "    </tr>\n",
              "  </tbody>\n",
              "</table>\n",
              "</div>\n",
              "      <button class=\"colab-df-convert\" onclick=\"convertToInteractive('df-f6b57201-4378-4d55-a855-1e0e083df56d')\"\n",
              "              title=\"Convert this dataframe to an interactive table.\"\n",
              "              style=\"display:none;\">\n",
              "        \n",
              "  <svg xmlns=\"http://www.w3.org/2000/svg\" height=\"24px\"viewBox=\"0 0 24 24\"\n",
              "       width=\"24px\">\n",
              "    <path d=\"M0 0h24v24H0V0z\" fill=\"none\"/>\n",
              "    <path d=\"M18.56 5.44l.94 2.06.94-2.06 2.06-.94-2.06-.94-.94-2.06-.94 2.06-2.06.94zm-11 1L8.5 8.5l.94-2.06 2.06-.94-2.06-.94L8.5 2.5l-.94 2.06-2.06.94zm10 10l.94 2.06.94-2.06 2.06-.94-2.06-.94-.94-2.06-.94 2.06-2.06.94z\"/><path d=\"M17.41 7.96l-1.37-1.37c-.4-.4-.92-.59-1.43-.59-.52 0-1.04.2-1.43.59L10.3 9.45l-7.72 7.72c-.78.78-.78 2.05 0 2.83L4 21.41c.39.39.9.59 1.41.59.51 0 1.02-.2 1.41-.59l7.78-7.78 2.81-2.81c.8-.78.8-2.07 0-2.86zM5.41 20L4 18.59l7.72-7.72 1.47 1.35L5.41 20z\"/>\n",
              "  </svg>\n",
              "      </button>\n",
              "      \n",
              "  <style>\n",
              "    .colab-df-container {\n",
              "      display:flex;\n",
              "      flex-wrap:wrap;\n",
              "      gap: 12px;\n",
              "    }\n",
              "\n",
              "    .colab-df-convert {\n",
              "      background-color: #E8F0FE;\n",
              "      border: none;\n",
              "      border-radius: 50%;\n",
              "      cursor: pointer;\n",
              "      display: none;\n",
              "      fill: #1967D2;\n",
              "      height: 32px;\n",
              "      padding: 0 0 0 0;\n",
              "      width: 32px;\n",
              "    }\n",
              "\n",
              "    .colab-df-convert:hover {\n",
              "      background-color: #E2EBFA;\n",
              "      box-shadow: 0px 1px 2px rgba(60, 64, 67, 0.3), 0px 1px 3px 1px rgba(60, 64, 67, 0.15);\n",
              "      fill: #174EA6;\n",
              "    }\n",
              "\n",
              "    [theme=dark] .colab-df-convert {\n",
              "      background-color: #3B4455;\n",
              "      fill: #D2E3FC;\n",
              "    }\n",
              "\n",
              "    [theme=dark] .colab-df-convert:hover {\n",
              "      background-color: #434B5C;\n",
              "      box-shadow: 0px 1px 3px 1px rgba(0, 0, 0, 0.15);\n",
              "      filter: drop-shadow(0px 1px 2px rgba(0, 0, 0, 0.3));\n",
              "      fill: #FFFFFF;\n",
              "    }\n",
              "  </style>\n",
              "\n",
              "      <script>\n",
              "        const buttonEl =\n",
              "          document.querySelector('#df-f6b57201-4378-4d55-a855-1e0e083df56d button.colab-df-convert');\n",
              "        buttonEl.style.display =\n",
              "          google.colab.kernel.accessAllowed ? 'block' : 'none';\n",
              "\n",
              "        async function convertToInteractive(key) {\n",
              "          const element = document.querySelector('#df-f6b57201-4378-4d55-a855-1e0e083df56d');\n",
              "          const dataTable =\n",
              "            await google.colab.kernel.invokeFunction('convertToInteractive',\n",
              "                                                     [key], {});\n",
              "          if (!dataTable) return;\n",
              "\n",
              "          const docLinkHtml = 'Like what you see? Visit the ' +\n",
              "            '<a target=\"_blank\" href=https://colab.research.google.com/notebooks/data_table.ipynb>data table notebook</a>'\n",
              "            + ' to learn more about interactive tables.';\n",
              "          element.innerHTML = '';\n",
              "          dataTable['output_type'] = 'display_data';\n",
              "          await google.colab.output.renderOutput(dataTable, element);\n",
              "          const docLink = document.createElement('div');\n",
              "          docLink.innerHTML = docLinkHtml;\n",
              "          element.appendChild(docLink);\n",
              "        }\n",
              "      </script>\n",
              "    </div>\n",
              "  </div>\n",
              "  "
            ]
          },
          "metadata": {},
          "execution_count": 39
        }
      ]
    },
    {
      "cell_type": "markdown",
      "source": [
        "### We now have B_Nuclei as an int(categorical). We then drop id_no since it is not informative."
      ],
      "metadata": {
        "id": "U5TZ3UM6N0p8"
      }
    },
    {
      "cell_type": "code",
      "source": [
        "data.drop(\"id_no\",axis=1,inplace=True) # We drop Id_no\n",
        "data.head()"
      ],
      "metadata": {
        "colab": {
          "base_uri": "https://localhost:8080/",
          "height": 206
        },
        "id": "yHQBKBMgOKyn",
        "outputId": "252d2404-e288-4a71-ca06-098bb0098864"
      },
      "execution_count": 40,
      "outputs": [
        {
          "output_type": "execute_result",
          "data": {
            "text/plain": [
              "   C_Thickness  Cell_Size  Cell_Shape  M_Adhesion  SEC_Size  B_Nuclei  \\\n",
              "0            5          1           1           1         2         0   \n",
              "1            5          4           4           5         7         1   \n",
              "2            3          1           1           1         2         2   \n",
              "3            6          8           8           1         3         4   \n",
              "4            4          1           1           3         2         0   \n",
              "\n",
              "   B_Chromatin  N_Nucleoli  Mitoses  class  \n",
              "0            3           1        1      2  \n",
              "1            3           2        1      2  \n",
              "2            3           1        1      2  \n",
              "3            3           7        1      2  \n",
              "4            3           1        1      2  "
            ],
            "text/html": [
              "\n",
              "  <div id=\"df-e320aa03-abad-4ae9-a91c-2c14a13c6034\">\n",
              "    <div class=\"colab-df-container\">\n",
              "      <div>\n",
              "<style scoped>\n",
              "    .dataframe tbody tr th:only-of-type {\n",
              "        vertical-align: middle;\n",
              "    }\n",
              "\n",
              "    .dataframe tbody tr th {\n",
              "        vertical-align: top;\n",
              "    }\n",
              "\n",
              "    .dataframe thead th {\n",
              "        text-align: right;\n",
              "    }\n",
              "</style>\n",
              "<table border=\"1\" class=\"dataframe\">\n",
              "  <thead>\n",
              "    <tr style=\"text-align: right;\">\n",
              "      <th></th>\n",
              "      <th>C_Thickness</th>\n",
              "      <th>Cell_Size</th>\n",
              "      <th>Cell_Shape</th>\n",
              "      <th>M_Adhesion</th>\n",
              "      <th>SEC_Size</th>\n",
              "      <th>B_Nuclei</th>\n",
              "      <th>B_Chromatin</th>\n",
              "      <th>N_Nucleoli</th>\n",
              "      <th>Mitoses</th>\n",
              "      <th>class</th>\n",
              "    </tr>\n",
              "  </thead>\n",
              "  <tbody>\n",
              "    <tr>\n",
              "      <th>0</th>\n",
              "      <td>5</td>\n",
              "      <td>1</td>\n",
              "      <td>1</td>\n",
              "      <td>1</td>\n",
              "      <td>2</td>\n",
              "      <td>0</td>\n",
              "      <td>3</td>\n",
              "      <td>1</td>\n",
              "      <td>1</td>\n",
              "      <td>2</td>\n",
              "    </tr>\n",
              "    <tr>\n",
              "      <th>1</th>\n",
              "      <td>5</td>\n",
              "      <td>4</td>\n",
              "      <td>4</td>\n",
              "      <td>5</td>\n",
              "      <td>7</td>\n",
              "      <td>1</td>\n",
              "      <td>3</td>\n",
              "      <td>2</td>\n",
              "      <td>1</td>\n",
              "      <td>2</td>\n",
              "    </tr>\n",
              "    <tr>\n",
              "      <th>2</th>\n",
              "      <td>3</td>\n",
              "      <td>1</td>\n",
              "      <td>1</td>\n",
              "      <td>1</td>\n",
              "      <td>2</td>\n",
              "      <td>2</td>\n",
              "      <td>3</td>\n",
              "      <td>1</td>\n",
              "      <td>1</td>\n",
              "      <td>2</td>\n",
              "    </tr>\n",
              "    <tr>\n",
              "      <th>3</th>\n",
              "      <td>6</td>\n",
              "      <td>8</td>\n",
              "      <td>8</td>\n",
              "      <td>1</td>\n",
              "      <td>3</td>\n",
              "      <td>4</td>\n",
              "      <td>3</td>\n",
              "      <td>7</td>\n",
              "      <td>1</td>\n",
              "      <td>2</td>\n",
              "    </tr>\n",
              "    <tr>\n",
              "      <th>4</th>\n",
              "      <td>4</td>\n",
              "      <td>1</td>\n",
              "      <td>1</td>\n",
              "      <td>3</td>\n",
              "      <td>2</td>\n",
              "      <td>0</td>\n",
              "      <td>3</td>\n",
              "      <td>1</td>\n",
              "      <td>1</td>\n",
              "      <td>2</td>\n",
              "    </tr>\n",
              "  </tbody>\n",
              "</table>\n",
              "</div>\n",
              "      <button class=\"colab-df-convert\" onclick=\"convertToInteractive('df-e320aa03-abad-4ae9-a91c-2c14a13c6034')\"\n",
              "              title=\"Convert this dataframe to an interactive table.\"\n",
              "              style=\"display:none;\">\n",
              "        \n",
              "  <svg xmlns=\"http://www.w3.org/2000/svg\" height=\"24px\"viewBox=\"0 0 24 24\"\n",
              "       width=\"24px\">\n",
              "    <path d=\"M0 0h24v24H0V0z\" fill=\"none\"/>\n",
              "    <path d=\"M18.56 5.44l.94 2.06.94-2.06 2.06-.94-2.06-.94-.94-2.06-.94 2.06-2.06.94zm-11 1L8.5 8.5l.94-2.06 2.06-.94-2.06-.94L8.5 2.5l-.94 2.06-2.06.94zm10 10l.94 2.06.94-2.06 2.06-.94-2.06-.94-.94-2.06-.94 2.06-2.06.94z\"/><path d=\"M17.41 7.96l-1.37-1.37c-.4-.4-.92-.59-1.43-.59-.52 0-1.04.2-1.43.59L10.3 9.45l-7.72 7.72c-.78.78-.78 2.05 0 2.83L4 21.41c.39.39.9.59 1.41.59.51 0 1.02-.2 1.41-.59l7.78-7.78 2.81-2.81c.8-.78.8-2.07 0-2.86zM5.41 20L4 18.59l7.72-7.72 1.47 1.35L5.41 20z\"/>\n",
              "  </svg>\n",
              "      </button>\n",
              "      \n",
              "  <style>\n",
              "    .colab-df-container {\n",
              "      display:flex;\n",
              "      flex-wrap:wrap;\n",
              "      gap: 12px;\n",
              "    }\n",
              "\n",
              "    .colab-df-convert {\n",
              "      background-color: #E8F0FE;\n",
              "      border: none;\n",
              "      border-radius: 50%;\n",
              "      cursor: pointer;\n",
              "      display: none;\n",
              "      fill: #1967D2;\n",
              "      height: 32px;\n",
              "      padding: 0 0 0 0;\n",
              "      width: 32px;\n",
              "    }\n",
              "\n",
              "    .colab-df-convert:hover {\n",
              "      background-color: #E2EBFA;\n",
              "      box-shadow: 0px 1px 2px rgba(60, 64, 67, 0.3), 0px 1px 3px 1px rgba(60, 64, 67, 0.15);\n",
              "      fill: #174EA6;\n",
              "    }\n",
              "\n",
              "    [theme=dark] .colab-df-convert {\n",
              "      background-color: #3B4455;\n",
              "      fill: #D2E3FC;\n",
              "    }\n",
              "\n",
              "    [theme=dark] .colab-df-convert:hover {\n",
              "      background-color: #434B5C;\n",
              "      box-shadow: 0px 1px 3px 1px rgba(0, 0, 0, 0.15);\n",
              "      filter: drop-shadow(0px 1px 2px rgba(0, 0, 0, 0.3));\n",
              "      fill: #FFFFFF;\n",
              "    }\n",
              "  </style>\n",
              "\n",
              "      <script>\n",
              "        const buttonEl =\n",
              "          document.querySelector('#df-e320aa03-abad-4ae9-a91c-2c14a13c6034 button.colab-df-convert');\n",
              "        buttonEl.style.display =\n",
              "          google.colab.kernel.accessAllowed ? 'block' : 'none';\n",
              "\n",
              "        async function convertToInteractive(key) {\n",
              "          const element = document.querySelector('#df-e320aa03-abad-4ae9-a91c-2c14a13c6034');\n",
              "          const dataTable =\n",
              "            await google.colab.kernel.invokeFunction('convertToInteractive',\n",
              "                                                     [key], {});\n",
              "          if (!dataTable) return;\n",
              "\n",
              "          const docLinkHtml = 'Like what you see? Visit the ' +\n",
              "            '<a target=\"_blank\" href=https://colab.research.google.com/notebooks/data_table.ipynb>data table notebook</a>'\n",
              "            + ' to learn more about interactive tables.';\n",
              "          element.innerHTML = '';\n",
              "          dataTable['output_type'] = 'display_data';\n",
              "          await google.colab.output.renderOutput(dataTable, element);\n",
              "          const docLink = document.createElement('div');\n",
              "          docLink.innerHTML = docLinkHtml;\n",
              "          element.appendChild(docLink);\n",
              "        }\n",
              "      </script>\n",
              "    </div>\n",
              "  </div>\n",
              "  "
            ]
          },
          "metadata": {},
          "execution_count": 40
        }
      ]
    },
    {
      "cell_type": "code",
      "source": [
        "print(data.isnull().sum()) # checking for missing values"
      ],
      "metadata": {
        "colab": {
          "base_uri": "https://localhost:8080/"
        },
        "id": "t3ZfUVM5OQia",
        "outputId": "65a4b860-ee18-4a5d-ebae-b5321364ce9e"
      },
      "execution_count": 41,
      "outputs": [
        {
          "output_type": "stream",
          "name": "stdout",
          "text": [
            "C_Thickness    0\n",
            "Cell_Size      0\n",
            "Cell_Shape     0\n",
            "M_Adhesion     0\n",
            "SEC_Size       0\n",
            "B_Nuclei       0\n",
            "B_Chromatin    0\n",
            "N_Nucleoli     0\n",
            "Mitoses        0\n",
            "class          0\n",
            "dtype: int64\n"
          ]
        }
      ]
    },
    {
      "cell_type": "code",
      "source": [
        "print(data['class'].value_counts()) # class distribution\n",
        "# Target variable distribution\n",
        "sns.set_style('darkgrid')\n",
        "plt.figure(figsize=(8, 5))\n",
        "sns.countplot(data[\"class\"])\n",
        "plt.title('Target variable distribution')\n",
        "plt.show()"
      ],
      "metadata": {
        "colab": {
          "base_uri": "https://localhost:8080/",
          "height": 403
        },
        "id": "NZ8Wof-tPYB5",
        "outputId": "9f92426a-5549-4ca5-ee1f-a0f434d8340e"
      },
      "execution_count": 42,
      "outputs": [
        {
          "output_type": "stream",
          "name": "stdout",
          "text": [
            "2    458\n",
            "4    241\n",
            "Name: class, dtype: int64\n"
          ]
        },
        {
          "output_type": "display_data",
          "data": {
            "text/plain": [
              "<Figure size 576x360 with 1 Axes>"
            ],
            "image/png": "[encoded data removed]"
          },
          "metadata": {}
        }
      ]
    },
    {
      "cell_type": "markdown",
      "source": [
        "#Splitting data"
      ],
      "metadata": {
        "id": "DDdd2NSKKeCc"
      }
    },
    {
      "cell_type": "code",
      "source": [
        "def split(data,percent):\n",
        "  np.random.seed(42)\n",
        "  perm = np.random.permutation(data.index)\n",
        "  n = len(data)\n",
        "\n",
        "  train_size = int(percent* n)\n",
        "  train_data = data.iloc[:perm[train_size]:]\n",
        "  test_data  = data.iloc[perm[train_size]:]\n",
        "  x_train = train_data.iloc[: , :-1 ]\n",
        "  y_train =  train_data.iloc[ : , -1 ]\n",
        "\n",
        "  x_test  = test_data.iloc[: , :-1 ]\n",
        "  y_test  = test_data.iloc[ : , -1 ]\n",
        "\n",
        "  return x_train,y_train, x_test,y_test\n",
        "\n",
        "x_train,y_train, x_test,y_test =split(data,0.75)"
      ],
      "metadata": {
        "id": "z0HEla4OLNqj"
      },
      "execution_count": 43,
      "outputs": []
    },
    {
      "cell_type": "code",
      "source": [
        "x_train.shape,y_train.shape , x_test.shape,y_test.shape"
      ],
      "metadata": {
        "colab": {
          "base_uri": "https://localhost:8080/"
        },
        "id": "wPGDXyEHPzOu",
        "outputId": "002d8d8d-c336-4fba-dc9e-844c8140d4dd"
      },
      "execution_count": 44,
      "outputs": [
        {
          "output_type": "execute_result",
          "data": {
            "text/plain": [
              "((541, 9), (541,), (158, 9), (158,))"
            ]
          },
          "metadata": {},
          "execution_count": 44
        }
      ]
    },
    {
      "cell_type": "code",
      "source": [
        "y_train.value_counts() # to show the number of datapoints per class in train set"
      ],
      "metadata": {
        "colab": {
          "base_uri": "https://localhost:8080/"
        },
        "id": "56KRVsLTQVwy",
        "outputId": "f8bf88bd-f3fa-416b-c3bd-7cadcb11beae"
      },
      "execution_count": 45,
      "outputs": [
        {
          "output_type": "execute_result",
          "data": {
            "text/plain": [
              "2    337\n",
              "4    204\n",
              "Name: class, dtype: int64"
            ]
          },
          "metadata": {},
          "execution_count": 45
        }
      ]
    },
    {
      "cell_type": "code",
      "source": [
        "y_test.value_counts() # to show the number of datapoints per class in test set"
      ],
      "metadata": {
        "colab": {
          "base_uri": "https://localhost:8080/"
        },
        "id": "DuN-N9cqQl6M",
        "outputId": "e026f09b-7153-4adb-f73e-abd169068ebe"
      },
      "execution_count": 46,
      "outputs": [
        {
          "output_type": "execute_result",
          "data": {
            "text/plain": [
              "2    121\n",
              "4     37\n",
              "Name: class, dtype: int64"
            ]
          },
          "metadata": {},
          "execution_count": 46
        }
      ]
    },
    {
      "cell_type": "markdown",
      "source": [
        "#Tackling Imbalance dataset"
      ],
      "metadata": {
        "id": "o8QduvDvLOe5"
      }
    },
    {
      "cell_type": "markdown",
      "source": [
        "We have observed that the data is umbalanced per class. To solve this issue of imbalance data we use these techniques:\n",
        "- Oversampling : Increasing the minority class. eg SMOTE, Random oversampler\n",
        "\n",
        "- Undersampling : Decrease the majority class. eg tumor link, Random Undersampler\n",
        "\n",
        "- Hybrid Approach \n"
      ],
      "metadata": {
        "id": "eh6rfBHyQ6NP"
      }
    },
    {
      "cell_type": "code",
      "source": [
        "#. for undersampling\n",
        "def under_sampler(X, y):\n",
        "  undersample = RandomUnderSampler(sampling_strategy='majority') #instantiate the model\n",
        "  X_under, y_under= undersample.fit_resample(X, y)   # fit and apply the transform\n",
        "\n",
        "  return X_under,y_under\n",
        "\n",
        "# for oversampling\n",
        "def over_sampler(X, y):\n",
        "  oversample = RandomOverSampler(sampling_strategy='minority') #instantiate the model\n",
        "  X_over,y_over= oversample.fit_resample(X, y)   # fit and apply the transform\n",
        "  \n",
        "  return X_over,y_over"
      ],
      "metadata": {
        "id": "VeAuPeXbLSvH"
      },
      "execution_count": 47,
      "outputs": []
    },
    {
      "cell_type": "code",
      "source": [
        "x_under, y_under = under_sampler(x_train, y_train)\n",
        "print(x_under.shape, y_under.shape)\n",
        "y_under.value_counts() "
      ],
      "metadata": {
        "colab": {
          "base_uri": "https://localhost:8080/"
        },
        "id": "ZBtEPFFWUDZz",
        "outputId": "05e177fa-c05f-488e-d724-46fcc7bd528c"
      },
      "execution_count": 48,
      "outputs": [
        {
          "output_type": "stream",
          "name": "stdout",
          "text": [
            "(408, 9) (408,)\n"
          ]
        },
        {
          "output_type": "execute_result",
          "data": {
            "text/plain": [
              "2    204\n",
              "4    204\n",
              "Name: class, dtype: int64"
            ]
          },
          "metadata": {},
          "execution_count": 48
        }
      ]
    },
    {
      "cell_type": "code",
      "source": [
        "x_over, y_over = over_sampler(x_train, y_train)\n",
        "print(x_over.shape, y_over.shape)\n",
        "\n",
        "y_over.value_counts() "
      ],
      "metadata": {
        "colab": {
          "base_uri": "https://localhost:8080/"
        },
        "id": "4-sSTolCVZST",
        "outputId": "6aa3edbf-cc3d-4d9a-99fb-5afaee114677"
      },
      "execution_count": 49,
      "outputs": [
        {
          "output_type": "stream",
          "name": "stdout",
          "text": [
            "(674, 9) (674,)\n"
          ]
        },
        {
          "output_type": "execute_result",
          "data": {
            "text/plain": [
              "2    337\n",
              "4    337\n",
              "Name: class, dtype: int64"
            ]
          },
          "metadata": {},
          "execution_count": 49
        }
      ]
    },
    {
      "cell_type": "markdown",
      "source": [
        "# Instantiating models from sklearn"
      ],
      "metadata": {
        "id": "NBekMG0RLTUQ"
      }
    },
    {
      "cell_type": "code",
      "source": [
        "logistic = LogisticRegression() # instantiating the model\n",
        "svm = SVC()\n",
        "trees = DecisionTreeClassifier(max_leaf_nodes=3, random_state=42)\n",
        "mlp = MLPClassifier(hidden_layer_sizes=(8,8,8), activation='relu', solver='adam', max_iter=500)\n",
        "#tree = DecisionTreeClassifier(criterion = \"gini\",random_state = 42,max_depth=6, min_samples_leaf=5)"
      ],
      "metadata": {
        "id": "orJmNjTaLZDC"
      },
      "execution_count": 72,
      "outputs": []
    },
    {
      "cell_type": "code",
      "source": [
        "print(\"logistic\")\n",
        "log_under = logistic.fit(x_under,y_under)\n",
        "log_under.fit(x_under,y_under)\n",
        "pred_underlog =log_under.predict(x_test)\n",
        "print('--------------------underSampling----------------------------')\n",
        "print(accuracy_score(y_test, pred_underlog) )\n",
        "print(f'{classification_report(y_test, pred_underlog)}') \n",
        "print(f'{confusion_matrix(y_test, pred_underlog)}') \n",
        "\n",
        "print('-------------------OverSampling-----------------------------')\n",
        "log_over = logistic.fit(x_over,y_over)\n",
        "pred_overlog = log_over.predict(x_test)\n",
        "print(accuracy_score(y_test, pred_overlog) )\n",
        "print(f'{classification_report(y_test, pred_overlog)}') \n",
        "print(f'{confusion_matrix(y_test, pred_overlog)}') "
      ],
      "metadata": {
        "id": "5IAkpQiDWIdv",
        "colab": {
          "base_uri": "https://localhost:8080/"
        },
        "outputId": "c6a8ad9a-8eeb-4984-8c08-72ee39f6fb90"
      },
      "execution_count": 73,
      "outputs": [
        {
          "output_type": "stream",
          "name": "stdout",
          "text": [
            "logistic\n",
            "--------------------underSampling----------------------------\n",
            "0.9873417721518988\n",
            "              precision    recall  f1-score   support\n",
            "\n",
            "           2       1.00      0.98      0.99       121\n",
            "           4       0.95      1.00      0.97        37\n",
            "\n",
            "    accuracy                           0.99       158\n",
            "   macro avg       0.97      0.99      0.98       158\n",
            "weighted avg       0.99      0.99      0.99       158\n",
            "\n",
            "[[119   2]\n",
            " [  0  37]]\n",
            "-------------------OverSampling-----------------------------\n",
            "0.9873417721518988\n",
            "              precision    recall  f1-score   support\n",
            "\n",
            "           2       1.00      0.98      0.99       121\n",
            "           4       0.95      1.00      0.97        37\n",
            "\n",
            "    accuracy                           0.99       158\n",
            "   macro avg       0.97      0.99      0.98       158\n",
            "weighted avg       0.99      0.99      0.99       158\n",
            "\n",
            "[[119   2]\n",
            " [  0  37]]\n"
          ]
        }
      ]
    },
    {
      "cell_type": "code",
      "source": [
        "print(\"svm\")\n",
        "svm_under = svm.fit(x_under,y_under)\n",
        "pred_under_svc = svm_under.predict(x_test)\n",
        "\n",
        "print('-------------------underSampling-----------------------------')\n",
        "print(accuracy_score(y_test, pred_under_svc) )\n",
        "print(f'{classification_report(y_test, pred_under_svc)}') \n",
        "print(f'{confusion_matrix(y_test, pred_under_svc)}') \n",
        "\n",
        "print('-------------------OverSampling-----------------------------')\n",
        "svm_over = svm.fit(x_over,y_over)\n",
        "pred_over_svc = svm_over.predict(x_test)\n",
        "print(accuracy_score(y_test, pred_over_svc) )\n",
        "print(f'{classification_report(y_test, pred_over_svc)}') \n",
        "print(f'{confusion_matrix(y_test, pred_over_svc)}') "
      ],
      "metadata": {
        "colab": {
          "base_uri": "https://localhost:8080/"
        },
        "id": "6ZK4lL214c-A",
        "outputId": "0958c61c-9bec-4ab6-9bdf-d0060ad2109c"
      },
      "execution_count": 74,
      "outputs": [
        {
          "output_type": "stream",
          "name": "stdout",
          "text": [
            "svm\n",
            "-------------------underSampling-----------------------------\n",
            "0.9873417721518988\n",
            "              precision    recall  f1-score   support\n",
            "\n",
            "           2       1.00      0.98      0.99       121\n",
            "           4       0.95      1.00      0.97        37\n",
            "\n",
            "    accuracy                           0.99       158\n",
            "   macro avg       0.97      0.99      0.98       158\n",
            "weighted avg       0.99      0.99      0.99       158\n",
            "\n",
            "[[119   2]\n",
            " [  0  37]]\n",
            "-------------------OverSampling-----------------------------\n",
            "0.9873417721518988\n",
            "              precision    recall  f1-score   support\n",
            "\n",
            "           2       1.00      0.98      0.99       121\n",
            "           4       0.95      1.00      0.97        37\n",
            "\n",
            "    accuracy                           0.99       158\n",
            "   macro avg       0.97      0.99      0.98       158\n",
            "weighted avg       0.99      0.99      0.99       158\n",
            "\n",
            "[[119   2]\n",
            " [  0  37]]\n"
          ]
        }
      ]
    },
    {
      "cell_type": "code",
      "source": [
        "print(\"decision tree\")\n",
        "trees_under = trees.fit(x_under,y_under)\n",
        "pred_under_trees = trees_under.predict(x_test)\n",
        "\n",
        "print('--------------------underSampling----------------------------')\n",
        "print(accuracy_score(y_test, pred_under_trees) )\n",
        "print(f'{classification_report(y_test, pred_under_trees)}') \n",
        "print(f'{confusion_matrix(y_test, pred_under_trees)}') \n",
        "\n",
        "print('-------------------OverSampling-----------------------------')\n",
        "trees_over = trees.fit(x_over,y_over)\n",
        "pred_over_trees = trees_over.predict(x_test)\n",
        "print(accuracy_score(y_test, pred_under_trees) )\n",
        "print(f'{classification_report(y_test, pred_under_trees)}') \n",
        "print(f'{confusion_matrix(y_test, pred_under_trees)}') "
      ],
      "metadata": {
        "colab": {
          "base_uri": "https://localhost:8080/"
        },
        "id": "9n77Vao84hjB",
        "outputId": "25171ac0-fff0-4736-dbbc-4c992decb5bb"
      },
      "execution_count": 75,
      "outputs": [
        {
          "output_type": "stream",
          "name": "stdout",
          "text": [
            "decision tree\n",
            "--------------------underSampling----------------------------\n",
            "0.9620253164556962\n",
            "              precision    recall  f1-score   support\n",
            "\n",
            "           2       0.99      0.96      0.97       121\n",
            "           4       0.88      0.97      0.92        37\n",
            "\n",
            "    accuracy                           0.96       158\n",
            "   macro avg       0.93      0.97      0.95       158\n",
            "weighted avg       0.96      0.96      0.96       158\n",
            "\n",
            "[[116   5]\n",
            " [  1  36]]\n",
            "-------------------OverSampling-----------------------------\n",
            "0.9620253164556962\n",
            "              precision    recall  f1-score   support\n",
            "\n",
            "           2       0.99      0.96      0.97       121\n",
            "           4       0.88      0.97      0.92        37\n",
            "\n",
            "    accuracy                           0.96       158\n",
            "   macro avg       0.93      0.97      0.95       158\n",
            "weighted avg       0.96      0.96      0.96       158\n",
            "\n",
            "[[116   5]\n",
            " [  1  36]]\n"
          ]
        }
      ]
    },
    {
      "cell_type": "code",
      "source": [
        "print(\"mlp\")\n",
        "mlp_under = mlp.fit(x_under,y_under)\n",
        "pred_under_mlp =  mlp_under.predict(x_test)\n",
        "\n",
        "print('-------------------OverSampling-----------------------------')\n",
        "print(accuracy_score(y_test, pred_under_mlp) )\n",
        "print(f'{classification_report(y_test, pred_under_mlp)}') \n",
        "print(f'{confusion_matrix(y_test, pred_under_mlp)}') \n",
        "\n",
        "print('-------------------underSampling-----------------------------')\n",
        "mlp_over = mlp.fit(x_over,y_over)\n",
        "pred_over_trees = mlp_over.predict(x_test)\n",
        "print(accuracy_score(y_test, pred_under_mlp) )\n",
        "print(f'{classification_report(y_test, pred_under_mlp)}') \n",
        "print(f'{confusion_matrix(y_test, pred_under_mlp)}')\n"
      ],
      "metadata": {
        "colab": {
          "base_uri": "https://localhost:8080/"
        },
        "id": "9HQeRuy9AJ8F",
        "outputId": "45372c26-06aa-409b-8360-fc2c5803e597"
      },
      "execution_count": 76,
      "outputs": [
        {
          "output_type": "stream",
          "name": "stdout",
          "text": [
            "mlp\n",
            "-------------------OverSampling-----------------------------\n",
            "0.9810126582278481\n",
            "              precision    recall  f1-score   support\n",
            "\n",
            "           2       1.00      0.98      0.99       121\n",
            "           4       0.93      1.00      0.96        37\n",
            "\n",
            "    accuracy                           0.98       158\n",
            "   macro avg       0.96      0.99      0.97       158\n",
            "weighted avg       0.98      0.98      0.98       158\n",
            "\n",
            "[[118   3]\n",
            " [  0  37]]\n",
            "-------------------underSampling-----------------------------\n",
            "0.9810126582278481\n",
            "              precision    recall  f1-score   support\n",
            "\n",
            "           2       1.00      0.98      0.99       121\n",
            "           4       0.93      1.00      0.96        37\n",
            "\n",
            "    accuracy                           0.98       158\n",
            "   macro avg       0.96      0.99      0.97       158\n",
            "weighted avg       0.98      0.98      0.98       158\n",
            "\n",
            "[[118   3]\n",
            " [  0  37]]\n"
          ]
        }
      ]
    },
    {
      "cell_type": "markdown",
      "source": [
        "#Ensembling Methods"
      ],
      "metadata": {
        "id": "HJSKgAwWLctt"
      }
    },
    {
      "cell_type": "markdown",
      "source": [
        "Ensemble method consists of several ML algorithms, pooling them together to achieve a better quality prediction. These methods include;\n",
        "- Bagging\n",
        "- voting\n",
        "- stacking\n",
        "- Boosting"
      ],
      "metadata": {
        "id": "iieF2prRYELk"
      }
    },
    {
      "cell_type": "markdown",
      "source": [
        "# Over Sampling:"
      ],
      "metadata": {
        "id": "zQKWvsbABszR"
      }
    },
    {
      "cell_type": "markdown",
      "source": [
        "##Voting"
      ],
      "metadata": {
        "id": "t_a4q1S-LhIk"
      }
    },
    {
      "cell_type": "code",
      "source": [
        "def voting(x_over, y_over,x_test,y_test,models):\n",
        "  predictions = np.zeros((len(y_test),len(models) ))\n",
        "  for m  in range(len(models)):\n",
        "    model=models[m].fit(x_over, y_over)\n",
        "    predictions[:,m] = model.predict(x_test)\n",
        "  \n",
        "  ''' Here, we compute the majority voting.'''\n",
        "  predictions = pd.DataFrame(predictions)  \n",
        "  final_predictions = [max(set(list(predictions.values[i])),key=list(predictions.values[i]).count) for i in range(len(predictions))]\n",
        "  return final_predictions\n",
        "\n",
        "\n",
        "\n",
        "def accuracy(y_test,ypred):\n",
        "  # out=0\n",
        "  n=len(y_test)\n",
        "  out = np.sum([1 if y_test.iloc[i]==ypred[i] else 0 for i in range(len(y_test))])\n",
        "  return out/n"
      ],
      "metadata": {
        "id": "4kLRwsv8qqrz"
      },
      "execution_count": 55,
      "outputs": []
    },
    {
      "cell_type": "code",
      "source": [
        "models = [logistic,trees,svm,mlp]\n",
        "vote = voting(x_over, y_over,x_test,y_test,models)\n",
        "print('Accuracy: ',(accuracy(y_test,vote)))\n",
        "print(classification_report(y_test, vote))\n",
        "print(f'{confusion_matrix(y_test, vote)}') "
      ],
      "metadata": {
        "colab": {
          "base_uri": "https://localhost:8080/"
        },
        "id": "XDth8-pEwASt",
        "outputId": "0d97e838-b4b1-4674-9d40-82a6d1efdd20"
      },
      "execution_count": 56,
      "outputs": [
        {
          "output_type": "stream",
          "name": "stdout",
          "text": [
            "Accuracy:  0.9873417721518988\n",
            "              precision    recall  f1-score   support\n",
            "\n",
            "           2       1.00      0.98      0.99       121\n",
            "           4       0.95      1.00      0.97        37\n",
            "\n",
            "    accuracy                           0.99       158\n",
            "   macro avg       0.97      0.99      0.98       158\n",
            "weighted avg       0.99      0.99      0.99       158\n",
            "\n",
            "[[119   2]\n",
            " [  0  37]]\n"
          ]
        }
      ]
    },
    {
      "cell_type": "markdown",
      "source": [
        "Undersampling"
      ],
      "metadata": {
        "id": "BjIhqGPrJqtB"
      }
    },
    {
      "cell_type": "code",
      "source": [
        "models = [logistic,trees,svm,mlp]\n",
        "vote_under = voting(x_under, y_under,x_test,y_test,models)\n",
        "print('Accuracy: ', accuracy(y_test,vote_under))\n",
        "print(f'{classification_report(y_test, vote_under)}')\n",
        "print(f'{confusion_matrix(y_test, vote_under)}') "
      ],
      "metadata": {
        "colab": {
          "base_uri": "https://localhost:8080/"
        },
        "id": "Hi0s5WO576cl",
        "outputId": "e43a4726-1805-4bbd-f3b6-8fd49a0c94ac"
      },
      "execution_count": 57,
      "outputs": [
        {
          "output_type": "stream",
          "name": "stdout",
          "text": [
            "Accuracy:  0.9873417721518988\n",
            "              precision    recall  f1-score   support\n",
            "\n",
            "           2       1.00      0.98      0.99       121\n",
            "           4       0.95      1.00      0.97        37\n",
            "\n",
            "    accuracy                           0.99       158\n",
            "   macro avg       0.97      0.99      0.98       158\n",
            "weighted avg       0.99      0.99      0.99       158\n",
            "\n",
            "[[119   2]\n",
            " [  0  37]]\n"
          ]
        }
      ]
    },
    {
      "cell_type": "code",
      "source": [
        "accuracy(y_test,vote_under)\n"
      ],
      "metadata": {
        "colab": {
          "base_uri": "https://localhost:8080/"
        },
        "id": "wzSCwXNIy6su",
        "outputId": "3766ad6f-fda9-40b4-e6dc-ac2992dcff99"
      },
      "execution_count": 58,
      "outputs": [
        {
          "output_type": "execute_result",
          "data": {
            "text/plain": [
              "0.9873417721518988"
            ]
          },
          "metadata": {},
          "execution_count": 58
        }
      ]
    },
    {
      "cell_type": "markdown",
      "source": [
        "##Bagging"
      ],
      "metadata": {
        "id": "E-Jd5gqGLnR4"
      }
    },
    {
      "cell_type": "code",
      "source": [
        "'''Combining the dataset in order to get the training data.'''\n",
        "over_train = x_over.join(y_over) \n",
        "under_train = x_under.join(y_under) "
      ],
      "metadata": {
        "id": "1aeRrHvM7Mu5"
      },
      "execution_count": 59,
      "outputs": []
    },
    {
      "cell_type": "code",
      "source": [
        "'''This function outputs the different samples from the same training dataset. Note : the sample is a random sample with replacement.'''\n",
        "def bootstrap_sample(original_dataset, ratio): \n",
        "    sub_dataset = []\n",
        "    n_elt = round(len(original_dataset)*ratio) \n",
        "    for i in range(n_elt):\n",
        "      '''the index outputs a random index of a datapoint from training dataset.'''\n",
        "      index = randrange(len(original_dataset)) \n",
        "\n",
        "      sub_dataset.append(original_dataset.values[index])\n",
        "    return sub_dataset\n",
        "\n",
        "def build_tree(x_train,y_train):\n",
        "  # tree = DecisionTreeClassifier(max_leaf_nodes=3, random_state=42)\n",
        "  # tree = SVC()\n",
        "  # tree = LogisticRegression()\n",
        "  tree = MLPClassifier(hidden_layer_sizes=(8,8,8), activation='relu', solver='adam', max_iter=500)\n",
        "  tree.fit(x_train,y_train)\n",
        "  return tree \n",
        "\n",
        "''' Make a prediction with a list of bagged trees'''\n",
        "def bagging_predict(tree,x):\n",
        "  pred = tree.predict(x)\n",
        "  return pred\n",
        "\n",
        "def bagging(xx_train,x_test,y,n_trees):\n",
        "  predictions = np.zeros((len(y),n_trees))\n",
        "  trees = []\n",
        "  for i in range(n_trees):\n",
        "    sample = bootstrap_sample(xx_train,0.4)\n",
        "    sample = pd.DataFrame(sample)\n",
        "    tree = build_tree(sample.iloc[:,:-1],sample.iloc[:,-1])\n",
        "    # print(tree)\n",
        "    predictions[:,i] = bagging_predict(tree,x_test)\n",
        "\n",
        "    ''' majority voting'''\n",
        "  predictions = pd.DataFrame(predictions)\n",
        "  # print(predictions)\n",
        "  final_predictions = [max(set(list(predictions.values[i])),key=list(predictions.values[i]).count) for i in range(len(predictions))]\n",
        "  return final_predictions\n",
        "\n",
        "''' to call the bagging function, we use the syntax ;\n",
        "out=bagging(xx_train,x_test,y_test,5)\n",
        "out=pd.DataFrame(out)\n",
        "'''\n",
        "\n",
        "\n",
        "\n",
        "def accuracy(y_test,ypred):\n",
        "  ''' we compute the accuracy of our predictions from the bagging method.'''\n",
        "  # out=0\n",
        "  n=len(y_test)\n",
        "  out = np.sum([1 if y_test.values[i]==ypred.values[i] else 0 for i in range(len(y_test))])\n",
        "  return out/n\n",
        "\n"
      ],
      "metadata": {
        "id": "JKxf16gYLosU"
      },
      "execution_count": 60,
      "outputs": []
    },
    {
      "cell_type": "code",
      "source": [
        "bag_over = bagging(over_train,x_test,y_test,5)\n",
        "bag_over=pd.DataFrame(bag_over)\n",
        "\n",
        "print('-------------------OverSampling-----------------------------')\n",
        "print('Accuracy: ',accuracy(y_test,bag_over))\n",
        "print(confusion_matrix(y_test,bag_over))\n",
        "print(classification_report(y_test,bag_over))\n",
        "\n",
        "print('-------------------UnderSampling----------------------------')\n",
        "bag_under = bagging(under_train,x_test,y_test,5)\n",
        "bag_under=pd.DataFrame(bag_under)\n",
        "\n",
        "print('Accuracy: ', accuracy(y_test,bag_under))\n",
        "print(confusion_matrix(y_test,bag_under))\n",
        "print(classification_report(y_test,bag_under))\n"
      ],
      "metadata": {
        "id": "cVNvqIpn9gh-",
        "colab": {
          "base_uri": "https://localhost:8080/"
        },
        "outputId": "562f3213-1916-454e-928e-78aaff02b606"
      },
      "execution_count": 61,
      "outputs": [
        {
          "output_type": "stream",
          "name": "stdout",
          "text": [
            "-------------------OverSampling-----------------------------\n",
            "Accuracy:  0.9810126582278481\n",
            "[[118   3]\n",
            " [  0  37]]\n",
            "              precision    recall  f1-score   support\n",
            "\n",
            "           2       1.00      0.98      0.99       121\n",
            "           4       0.93      1.00      0.96        37\n",
            "\n",
            "    accuracy                           0.98       158\n",
            "   macro avg       0.96      0.99      0.97       158\n",
            "weighted avg       0.98      0.98      0.98       158\n",
            "\n",
            "-------------------UnderSampling----------------------------\n",
            "Accuracy:  0.9873417721518988\n",
            "[[119   2]\n",
            " [  0  37]]\n",
            "              precision    recall  f1-score   support\n",
            "\n",
            "           2       1.00      0.98      0.99       121\n",
            "           4       0.95      1.00      0.97        37\n",
            "\n",
            "    accuracy                           0.99       158\n",
            "   macro avg       0.97      0.99      0.98       158\n",
            "weighted avg       0.99      0.99      0.99       158\n",
            "\n"
          ]
        }
      ]
    },
    {
      "cell_type": "markdown",
      "source": [
        "SVM"
      ],
      "metadata": {
        "id": "BYwoefanRlKV"
      }
    },
    {
      "cell_type": "code",
      "source": [
        "bag_over_svm = bagging(over_train,x_test,y_test,5)\n",
        "bag_over_svm=pd.DataFrame(bag_over_svm)\n",
        "\n",
        "print('-------------------OverSampling-----------------------------')\n",
        "print('Accuracy: ',accuracy(y_test,bag_over_svm))\n",
        "print(confusion_matrix(y_test,bag_over_svm))\n",
        "print(classification_report(y_test,bag_over_svm))\n",
        "\n",
        "print('-------------------UnderSampling----------------------------')\n",
        "bag_under_svm = bagging(under_train,x_test,y_test,5)\n",
        "bag_under_svm=pd.DataFrame(bag_under_svm)\n",
        "\n",
        "print('Accuracy: ', accuracy(y_test,bag_under_svm))\n",
        "print(confusion_matrix(y_test,bag_under_svm))\n",
        "print(classification_report(y_test,bag_under_svm))\n"
      ],
      "metadata": {
        "id": "686_rnPfRkaC",
        "colab": {
          "base_uri": "https://localhost:8080/"
        },
        "outputId": "f8c90608-658a-4677-8df7-cbf4a5bb07e7"
      },
      "execution_count": 62,
      "outputs": [
        {
          "output_type": "stream",
          "name": "stdout",
          "text": [
            "-------------------OverSampling-----------------------------\n",
            "Accuracy:  0.9873417721518988\n",
            "[[119   2]\n",
            " [  0  37]]\n",
            "              precision    recall  f1-score   support\n",
            "\n",
            "           2       1.00      0.98      0.99       121\n",
            "           4       0.95      1.00      0.97        37\n",
            "\n",
            "    accuracy                           0.99       158\n",
            "   macro avg       0.97      0.99      0.98       158\n",
            "weighted avg       0.99      0.99      0.99       158\n",
            "\n",
            "-------------------UnderSampling----------------------------\n",
            "Accuracy:  0.9746835443037974\n",
            "[[118   3]\n",
            " [  1  36]]\n",
            "              precision    recall  f1-score   support\n",
            "\n",
            "           2       0.99      0.98      0.98       121\n",
            "           4       0.92      0.97      0.95        37\n",
            "\n",
            "    accuracy                           0.97       158\n",
            "   macro avg       0.96      0.97      0.97       158\n",
            "weighted avg       0.98      0.97      0.97       158\n",
            "\n"
          ]
        }
      ]
    },
    {
      "cell_type": "markdown",
      "source": [
        "LogisticRegression"
      ],
      "metadata": {
        "id": "tsRK6y1dSueS"
      }
    },
    {
      "cell_type": "code",
      "source": [
        "bag_over_logist = bagging(over_train,x_test,y_test,5)\n",
        "bag_over_logist=pd.DataFrame(bag_over_logist)\n",
        "\n",
        "print('-------------------OverSampling-----------------------------')\n",
        "print('Accuracy: ',accuracy(y_test,bag_over_logist))\n",
        "print(confusion_matrix(y_test,bag_over_logist))\n",
        "print(classification_report(y_test,bag_over_logist))\n",
        "\n",
        "print('-------------------UnderSampling----------------------------')\n",
        "bag_under_logist = bagging(under_train,x_test,y_test,5)\n",
        "bag_under_logist=pd.DataFrame(bag_under_logist)\n",
        "\n",
        "print('Accuracy: ', accuracy(y_test,bag_under_logist))\n",
        "print(confusion_matrix(y_test,bag_under_logist))\n",
        "print(classification_report(y_test,bag_under_logist))\n"
      ],
      "metadata": {
        "id": "xBWx-AVSSxdh",
        "colab": {
          "base_uri": "https://localhost:8080/"
        },
        "outputId": "40c20ba8-2159-4820-c086-369b3711d919"
      },
      "execution_count": 63,
      "outputs": [
        {
          "output_type": "stream",
          "name": "stdout",
          "text": [
            "-------------------OverSampling-----------------------------\n",
            "Accuracy:  0.9873417721518988\n",
            "[[119   2]\n",
            " [  0  37]]\n",
            "              precision    recall  f1-score   support\n",
            "\n",
            "           2       1.00      0.98      0.99       121\n",
            "           4       0.95      1.00      0.97        37\n",
            "\n",
            "    accuracy                           0.99       158\n",
            "   macro avg       0.97      0.99      0.98       158\n",
            "weighted avg       0.99      0.99      0.99       158\n",
            "\n",
            "-------------------UnderSampling----------------------------\n",
            "Accuracy:  0.9936708860759493\n",
            "[[121   0]\n",
            " [  1  36]]\n",
            "              precision    recall  f1-score   support\n",
            "\n",
            "           2       0.99      1.00      1.00       121\n",
            "           4       1.00      0.97      0.99        37\n",
            "\n",
            "    accuracy                           0.99       158\n",
            "   macro avg       1.00      0.99      0.99       158\n",
            "weighted avg       0.99      0.99      0.99       158\n",
            "\n"
          ]
        }
      ]
    },
    {
      "cell_type": "markdown",
      "source": [
        "FCN"
      ],
      "metadata": {
        "id": "pdZrt0IATLsl"
      }
    },
    {
      "cell_type": "code",
      "source": [
        "bag_over_FCN = bagging(over_train,x_test,y_test,5)\n",
        "bag_over_FCN=pd.DataFrame(bag_over_FCN)\n",
        "\n",
        "print('-------------------OverSampling-----------------------------')\n",
        "print('Accuracy: ',accuracy(y_test,bag_over_FCN))\n",
        "print(confusion_matrix(y_test,bag_over_FCN))\n",
        "print(classification_report(y_test,bag_over_FCN))\n",
        "\n",
        "print('-------------------UnderSampling----------------------------')\n",
        "bag_under_FCN = bagging(under_train,x_test,y_test,5)\n",
        "bag_under_FCN=pd.DataFrame(bag_under_FCN)\n",
        "\n",
        "print('Accuracy: ', accuracy(y_test,bag_under_FCN))\n",
        "print(confusion_matrix(y_test,bag_under_FCN))\n",
        "print(classification_report(y_test,bag_under_FCN))\n"
      ],
      "metadata": {
        "id": "mM_1Yz1KTMzZ",
        "colab": {
          "base_uri": "https://localhost:8080/"
        },
        "outputId": "e9258470-6b90-471e-c353-ae35daacb791"
      },
      "execution_count": 64,
      "outputs": [
        {
          "output_type": "stream",
          "name": "stdout",
          "text": [
            "-------------------OverSampling-----------------------------\n",
            "Accuracy:  0.9873417721518988\n",
            "[[119   2]\n",
            " [  0  37]]\n",
            "              precision    recall  f1-score   support\n",
            "\n",
            "           2       1.00      0.98      0.99       121\n",
            "           4       0.95      1.00      0.97        37\n",
            "\n",
            "    accuracy                           0.99       158\n",
            "   macro avg       0.97      0.99      0.98       158\n",
            "weighted avg       0.99      0.99      0.99       158\n",
            "\n",
            "-------------------UnderSampling----------------------------\n",
            "Accuracy:  0.9810126582278481\n",
            "[[119   2]\n",
            " [  1  36]]\n",
            "              precision    recall  f1-score   support\n",
            "\n",
            "           2       0.99      0.98      0.99       121\n",
            "           4       0.95      0.97      0.96        37\n",
            "\n",
            "    accuracy                           0.98       158\n",
            "   macro avg       0.97      0.98      0.97       158\n",
            "weighted avg       0.98      0.98      0.98       158\n",
            "\n"
          ]
        }
      ]
    },
    {
      "cell_type": "markdown",
      "source": [
        "##Boosting"
      ],
      "metadata": {
        "id": "-8vatdAPLp4c"
      }
    },
    {
      "cell_type": "code",
      "source": [
        "class adaBoostClassifier():\n",
        "  def __init__(self, n_estimators=4, max_depth=1, max_leaf_nodes=3, random_state=None):\n",
        "    self.n_estimators = n_estimators\n",
        "    self.max_depth = max_depth\n",
        "    self.max_leaf_nodes = max_leaf_nodes\n",
        "    self.random_state = random_state\n",
        "    self.sample_weight = np.array([])\n",
        "    self.weight_model = dict()\n",
        "    self.model = dict()\n",
        "    self.features = dict()\n",
        "\n",
        "  def fit(self, x, y):\n",
        "\n",
        "    # weigth initialization\n",
        "    x_length = len(x)\n",
        "    self.sample_weight = np.ones(x_length)/x_length\n",
        "\n",
        "\n",
        "    np.random.seed(seed=9999)\n",
        "    for i in range(self.n_estimators) :\n",
        "\n",
        "      # randomly select a sample\n",
        "      rand_index = np.random.randint(low=0, high=x.shape[0], size=round(x.shape[0]*0.8))\n",
        "      rand_column = np.random.randint(low=0, high=x.shape[1], size=round(x.shape[1]*0.8))\n",
        "\n",
        "      x_samp = x.iloc[rand_index, :]\n",
        "      x_samp = x_samp.iloc[:, rand_column]\n",
        "      y_samp = y.iloc[rand_index]\n",
        "      weight_samp = self.sample_weight[rand_index]\n",
        "\n",
        "      # Initialize the model (decision tree)\n",
        "      # decision_tree_model = DecisionTreeClassifier(max_leaf_nodes=self.max_leaf_nodes, random_state=self.random_state, max_depth=self.max_depth)\n",
        "\n",
        "      # Initialize the model (svm)\n",
        "      # decision_tree_model = SVC()\n",
        "\n",
        "      # Initialize the model (svm)\n",
        "      # decision_tree_model = LogisticRegression()\n",
        "\n",
        "      # Initialize the model (svm)\n",
        "      decision_tree_model = MLPClassifier(hidden_layer_sizes=(8,8,8), activation='relu', solver='adam', max_iter=500)\n",
        "\n",
        "      # fit the model\n",
        "      self.model[i] = decision_tree_model.fit(x_samp, y_samp)\n",
        "      # self.model[i] = decision_tree_model.fit(x_samp, y_samp, sample_weight=weight_samp)\n",
        "      self.features[i] = rand_column\n",
        "\n",
        "      # Prediction \n",
        "      y_pred = self.model[i].predict(x_samp)\n",
        "\n",
        "      # Compute the total erreur\n",
        "      total_error = np.sum((y_pred!=y_samp) * weight_samp)\n",
        "\n",
        "      # Compute the weight of the model\n",
        "      self.weight_model[i] = (1/2) * np.log((1-total_error)/(total_error))\n",
        "\n",
        "      # updating the weight\n",
        "      self.sample_weight[rand_index] = (y_pred!=y_samp) * self.sample_weight[rand_index] * np.exp(self.weight_model[i]) + (y_pred==y_samp) * self.sample_weight[rand_index] * np.exp(-self.weight_model[i])\n",
        "  \n",
        "      # Normalize the weight  \n",
        "      self.sample_weight /= np.sum(self.sample_weight)\n",
        "\n",
        "\n",
        "  def predict(self, x):\n",
        "\n",
        "    pred = np.zeros(x.shape[0])\n",
        "    for i in range(self.n_estimators):\n",
        "      pred += self.model[i].predict(x.iloc[:, self.features[i]]) * self.weight_model[i]\n",
        "\n",
        "    pred = pred/self.n_estimators\n",
        "    pred = np.where(pred <= 3, 2, 4)\n",
        "\n",
        "    return pred\n",
        "\n"
      ],
      "metadata": {
        "id": "VtYq0jP-Lpc4"
      },
      "execution_count": 65,
      "outputs": []
    },
    {
      "cell_type": "code",
      "source": [
        "ada = adaBoostClassifier(n_estimators=4, random_state=42)\n",
        "ada.fit(x_over, y_over)\n",
        "\n",
        "ada_under = adaBoostClassifier(n_estimators=4, random_state=42)\n",
        "ada_under.fit(x_under, y_under)"
      ],
      "metadata": {
        "id": "BduJyB8mHnmH"
      },
      "execution_count": 66,
      "outputs": []
    },
    {
      "cell_type": "code",
      "source": [
        "print('---------------------------OverSampling--------------------------')\n",
        "pred_over = ada.predict(x_test)\n",
        "print('Accuracy: ',accuracy(y_test,pd.DataFrame(pred_over)))\n",
        "print(confusion_matrix(y_test,pred_over))\n",
        "print(classification_report(y_test,pred_over))\n",
        "\n",
        "print('----------------------------underSampling-----------------------------')\n",
        "pred_under = ada_under.predict(x_test)\n",
        "print('accuracy: ', accuracy(y_test,pd.DataFrame(pred_under)))\n",
        "print(confusion_matrix(y_test,pred_under))\n",
        "print(classification_report(y_test,pred_under))"
      ],
      "metadata": {
        "id": "9Z6IvAiHJIu8",
        "colab": {
          "base_uri": "https://localhost:8080/"
        },
        "outputId": "08b9e414-646e-461a-839a-2b95d9e22aca"
      },
      "execution_count": 68,
      "outputs": [
        {
          "output_type": "stream",
          "name": "stdout",
          "text": [
            "---------------------------OverSampling--------------------------\n",
            "Accuracy:  0.9683544303797469\n",
            "[[116   5]\n",
            " [  0  37]]\n",
            "              precision    recall  f1-score   support\n",
            "\n",
            "           2       1.00      0.96      0.98       121\n",
            "           4       0.88      1.00      0.94        37\n",
            "\n",
            "    accuracy                           0.97       158\n",
            "   macro avg       0.94      0.98      0.96       158\n",
            "weighted avg       0.97      0.97      0.97       158\n",
            "\n",
            "----------------------------underSampling-----------------------------\n",
            "accuracy:  0.9873417721518988\n",
            "[[119   2]\n",
            " [  0  37]]\n",
            "              precision    recall  f1-score   support\n",
            "\n",
            "           2       1.00      0.98      0.99       121\n",
            "           4       0.95      1.00      0.97        37\n",
            "\n",
            "    accuracy                           0.99       158\n",
            "   macro avg       0.97      0.99      0.98       158\n",
            "weighted avg       0.99      0.99      0.99       158\n",
            "\n"
          ]
        }
      ]
    },
    {
      "cell_type": "markdown",
      "source": [
        "SVM"
      ],
      "metadata": {
        "id": "6H0mVQN5MulU"
      }
    },
    {
      "cell_type": "code",
      "source": [
        "ada_svm = adaBoostClassifier(n_estimators=4, random_state=42)\n",
        "ada_svm.fit(x_over, y_over)\n",
        "\n",
        "ada_under_svm = adaBoostClassifier(n_estimators=4, random_state=42)\n",
        "ada_under_svm.fit(x_under, y_under)\n",
        "\n",
        "print('---------------------------OverSampling--------------------------')\n",
        "pred_over_svm = ada_svm.predict(x_test)\n",
        "print('Accuracy SVM: ',accuracy(y_test,pd.DataFrame(pred_over_svm)))\n",
        "print(confusion_matrix(y_test,pred_over_svm))\n",
        "print(classification_report(y_test,pred_over_svm))\n",
        "\n",
        "print('----------------------------underSampling-----------------------------')\n",
        "pred_under_svm = ada_under_svm.predict(x_test)\n",
        "print('accuracy SVM: ', accuracy(y_test,pd.DataFrame(pred_under_svm)))\n",
        "print(confusion_matrix(y_test,pred_under_svm))\n",
        "print(classification_report(y_test,pred_under_svm))"
      ],
      "metadata": {
        "id": "u2OymRqWJXHw",
        "colab": {
          "base_uri": "https://localhost:8080/"
        },
        "outputId": "a5175bb0-ab0d-4542-f0a6-da73c8b42488"
      },
      "execution_count": 67,
      "outputs": [
        {
          "output_type": "stream",
          "name": "stdout",
          "text": [
            "---------------------------OverSampling--------------------------\n",
            "Accuracy SVM:  0.9683544303797469\n",
            "[[116   5]\n",
            " [  0  37]]\n",
            "              precision    recall  f1-score   support\n",
            "\n",
            "           2       1.00      0.96      0.98       121\n",
            "           4       0.88      1.00      0.94        37\n",
            "\n",
            "    accuracy                           0.97       158\n",
            "   macro avg       0.94      0.98      0.96       158\n",
            "weighted avg       0.97      0.97      0.97       158\n",
            "\n",
            "----------------------------underSampling-----------------------------\n",
            "accuracy SVM:  0.9873417721518988\n",
            "[[119   2]\n",
            " [  0  37]]\n",
            "              precision    recall  f1-score   support\n",
            "\n",
            "           2       1.00      0.98      0.99       121\n",
            "           4       0.95      1.00      0.97        37\n",
            "\n",
            "    accuracy                           0.99       158\n",
            "   macro avg       0.97      0.99      0.98       158\n",
            "weighted avg       0.99      0.99      0.99       158\n",
            "\n"
          ]
        }
      ]
    },
    {
      "cell_type": "markdown",
      "source": [
        "LogisticRegression"
      ],
      "metadata": {
        "id": "wRkcdLQSOZI-"
      }
    },
    {
      "cell_type": "code",
      "source": [
        "ada_logis = adaBoostClassifier(n_estimators=4, random_state=42)\n",
        "ada_logis.fit(x_over, y_over)\n",
        "\n",
        "ada_under_logis = adaBoostClassifier(n_estimators=4, random_state=42)\n",
        "ada_under_logis.fit(x_under, y_under)\n",
        "\n",
        "print('---------------------------OverSampling--------------------------')\n",
        "pred_over_logis = ada_logis.predict(x_test)\n",
        "print('Accuracy logis: ',accuracy(y_test,pd.DataFrame(pred_over_logis)))\n",
        "print(confusion_matrix(y_test,pred_over_logis))\n",
        "print(classification_report(y_test,pred_over_logis))\n",
        "\n",
        "print('----------------------------underSampling-----------------------------')\n",
        "pred_under_logis = ada_under_logis.predict(x_test)\n",
        "print('accuracy logis: ', accuracy(y_test,pd.DataFrame(pred_under_logis)))\n",
        "print(confusion_matrix(y_test,pred_under_logis))\n",
        "print(classification_report(y_test,pred_under_logis))"
      ],
      "metadata": {
        "id": "AHzzoKVFM-0T",
        "colab": {
          "base_uri": "https://localhost:8080/"
        },
        "outputId": "1ff488db-1631-4ccb-e0c7-5eaab8ddb940"
      },
      "execution_count": 69,
      "outputs": [
        {
          "output_type": "stream",
          "name": "stdout",
          "text": [
            "---------------------------OverSampling--------------------------\n",
            "Accuracy logis:  0.9683544303797469\n",
            "[[116   5]\n",
            " [  0  37]]\n",
            "              precision    recall  f1-score   support\n",
            "\n",
            "           2       1.00      0.96      0.98       121\n",
            "           4       0.88      1.00      0.94        37\n",
            "\n",
            "    accuracy                           0.97       158\n",
            "   macro avg       0.94      0.98      0.96       158\n",
            "weighted avg       0.97      0.97      0.97       158\n",
            "\n",
            "----------------------------underSampling-----------------------------\n",
            "accuracy logis:  0.9873417721518988\n",
            "[[119   2]\n",
            " [  0  37]]\n",
            "              precision    recall  f1-score   support\n",
            "\n",
            "           2       1.00      0.98      0.99       121\n",
            "           4       0.95      1.00      0.97        37\n",
            "\n",
            "    accuracy                           0.99       158\n",
            "   macro avg       0.97      0.99      0.98       158\n",
            "weighted avg       0.99      0.99      0.99       158\n",
            "\n"
          ]
        }
      ]
    },
    {
      "cell_type": "markdown",
      "source": [
        "FCN"
      ],
      "metadata": {
        "id": "SYhO3OM5O_hl"
      }
    },
    {
      "cell_type": "code",
      "source": [
        "ada_FCN = adaBoostClassifier(n_estimators=4, random_state=42)\n",
        "ada_FCN.fit(x_over, y_over)\n",
        "\n",
        "ada_under_FCN = adaBoostClassifier(n_estimators=4, random_state=42)\n",
        "ada_under_FCN.fit(x_under, y_under)\n",
        "\n",
        "print('---------------------------OverSampling--------------------------')\n",
        "pred_over_FCN = ada_FCN.predict(x_test)\n",
        "print('Accuracy FCN: ',accuracy(y_test,pd.DataFrame(pred_over_FCN)))\n",
        "print(confusion_matrix(y_test,pred_over_FCN))\n",
        "print(classification_report(y_test,pred_over_FCN))\n",
        "\n",
        "print('----------------------------underSampling-----------------------------')\n",
        "pred_under_FCN = ada_under_FCN.predict(x_test)\n",
        "print('accuracy FCN: ', accuracy(y_test,pd.DataFrame(pred_under_FCN)))\n",
        "print(confusion_matrix(y_test,pred_under_FCN))\n",
        "print(classification_report(y_test,pred_under_FCN))"
      ],
      "metadata": {
        "id": "9uBlmVi2OmWv",
        "colab": {
          "base_uri": "https://localhost:8080/"
        },
        "outputId": "ecd17cd8-c0c9-462b-cba5-aa8aaeb13072"
      },
      "execution_count": 70,
      "outputs": [
        {
          "output_type": "stream",
          "name": "stdout",
          "text": [
            "---------------------------OverSampling--------------------------\n",
            "Accuracy FCN:  0.9683544303797469\n",
            "[[116   5]\n",
            " [  0  37]]\n",
            "              precision    recall  f1-score   support\n",
            "\n",
            "           2       1.00      0.96      0.98       121\n",
            "           4       0.88      1.00      0.94        37\n",
            "\n",
            "    accuracy                           0.97       158\n",
            "   macro avg       0.94      0.98      0.96       158\n",
            "weighted avg       0.97      0.97      0.97       158\n",
            "\n",
            "----------------------------underSampling-----------------------------\n",
            "accuracy FCN:  0.9873417721518988\n",
            "[[119   2]\n",
            " [  0  37]]\n",
            "              precision    recall  f1-score   support\n",
            "\n",
            "           2       1.00      0.98      0.99       121\n",
            "           4       0.95      1.00      0.97        37\n",
            "\n",
            "    accuracy                           0.99       158\n",
            "   macro avg       0.97      0.99      0.98       158\n",
            "weighted avg       0.99      0.99      0.99       158\n",
            "\n"
          ]
        }
      ]
    },
    {
      "cell_type": "code",
      "source": [
        ""
      ],
      "metadata": {
        "id": "tpldqT7IPGLE"
      },
      "execution_count": null,
      "outputs": []
    }
  ]
}